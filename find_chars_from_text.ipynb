{
 "cells": [
  {
   "cell_type": "code",
   "execution_count": 1,
   "metadata": {},
   "outputs": [],
   "source": [
    "import os\n",
    "import re\n",
    "from collections import Counter\n",
    "import pandas as pd\n"
   ]
  },
  {
   "cell_type": "code",
   "execution_count": 2,
   "metadata": {},
   "outputs": [],
   "source": [
    "RAW_HINDI_DATA_DIR = 'data/raw_hindi_data'\n"
   ]
  },
  {
   "cell_type": "code",
   "execution_count": 3,
   "metadata": {},
   "outputs": [],
   "source": [
    "# def read_text_files(directory):\n",
    "#     text = \"\"\n",
    "#     for filename in os.listdir(directory):\n",
    "#         if filename.endswith(\".txt\"):\n",
    "#             with open(os.path.join(directory, filename), 'r', encoding='utf-8') as file:\n",
    "#                 text += file.read() + \" \"\n",
    "#     return text\n",
    "\n",
    "# def tokenize(text):\n",
    "#     # Using regex to find words, which are sequences of word characters (alphanumeric + underscore)\n",
    "#     words = re.findall(r'\\b\\w+\\b', text)\n",
    "#     return words\n",
    "\n",
    "# def get_vocabulary(directory):\n",
    "#     text = read_text_files(directory)\n",
    "#     words = tokenize(text)\n",
    "#     vocabulary = set(words)\n",
    "#     return vocabulary\n",
    "\n",
    "# Example usage:\n",
    "# directory_path = 'data/raw_hindi_data'\n",
    "# vocabulary = get_vocabulary(directory_path)\n",
    "\n",
    "# # Print the vocabulary\n",
    "# print(\"Vocabulary size:\", len(vocabulary))\n",
    "# print(\"Vocabulary:\", vocabulary)\n"
   ]
  },
  {
   "cell_type": "code",
   "execution_count": 68,
   "metadata": {},
   "outputs": [
    {
     "name": "stdout",
     "output_type": "stream",
     "text": [
      "Character counts: 77\n"
     ]
    }
   ],
   "source": [
    "def read_text_files(directory):\n",
    "    text = \"\"\n",
    "    for filename in os.listdir(directory):\n",
    "        if filename.endswith(\".txt\"):\n",
    "            with open(os.path.join(directory, filename), 'r', encoding='utf-8') as file:\n",
    "                text += file.read()\n",
    "    return text\n",
    "\n",
    "def filter_text(text):\n",
    "    # Remove English alphabets and numbers 0-9 using regex\n",
    "    filtered_text = re.sub(r'[a-zA-Z0-9]', '', text)\n",
    "    \n",
    "    # Remove newline characters and extra spaces\n",
    "    filtered_text = re.sub(r'\\n', '', filtered_text)\n",
    "    \n",
    "    # Remove special characters\n",
    "    special_chars = {\n",
    "        'punctuation': '!\"\\'()*,./:;?[]«»‹›\"\"''„‒–—―',  # Basic punctuation and quotation marks\n",
    "        'math_logical': '!%&*+-/<=>^|~',  # Mathematical and logical operators\n",
    "        'currency': '$£€¥¢₹',  # Currency symbols\n",
    "        'other_symbols': '#&@_¦¬\\‰',  # Miscellaneous symbols\n",
    "        'diacritical': '`ˆç',  # Diacritical marks and grave accent\n",
    "        'special': '¡¿',  # Inverted punctuation (used in Spanish)\n",
    "        'invisible': '\\u200C\\u200D',  # Zero Width Non-Joiner and Zero Width Joiner\n",
    "        'whitespace': ' \\t\\n\\r\\f\\v',  # Various whitespace characters\n",
    "        'additional': '§©®°±µ¶·¹²³†‡',  # Additional symbols, superscript numbers, and special characters\n",
    "        'brackets': '()[]{}⟨⟩',  # Various types of brackets\n",
    "        'arrows': '←→↑↓↔↕↖↗↘↙',  # Arrow symbols\n",
    "        'math_symbols': '∀∂∃∅∇∈∉∋∏∑−∕∗∙√∝∞∠∧∨∩∪∫≅≈≠≡≤≥',  # Advanced mathematical symbols\n",
    "        'greek_letters': 'αβγδεζηθικλμνξοπρστυφχψω',  # Lowercase Greek letters\n",
    "        'format_control': '\\u200E\\u200F\\u202A\\u202B\\u202C\\u202D\\u202E',  # Bidirectional formatting characters\n",
    "        'quotes': '\\'\\\"\\'\\\"’“”',  # Various types of quotation marks\n",
    "    }\n",
    "    special_chars_pattern = '[' + re.escape(''.join(special_chars.values())) + ']'\n",
    "    filtered_text = re.sub(special_chars_pattern, '', filtered_text)\n",
    "    return filtered_text\n",
    "\n",
    "def count_characters(text):\n",
    "    return Counter(text)\n",
    "\n",
    "def get_character_counts_from_directory(directory):\n",
    "    text = read_text_files(directory)\n",
    "    filtered_text = filter_text(text)\n",
    "    character_counts = count_characters(filtered_text)\n",
    "    return character_counts\n",
    "\n",
    "# Example usage:\n",
    "character_counts = get_character_counts_from_directory(RAW_HINDI_DATA_DIR)\n",
    "print(\"Character counts:\", len(character_counts))\n"
   ]
  },
  {
   "cell_type": "markdown",
   "metadata": {},
   "source": [
    "The Unicode range for the Devanagari script, used for writing Hindi, spans from U+0900 to U+097F. Here is a breakdown of the range:\n",
    "\n",
    "- U+0900 to U+0903: Vowel signs (e.g., ं, ँ)\n",
    "- U+0904 to U+0939: Independent vowels and consonants (e.g., अ, आ, इ, ई, क, ख, ग)\n",
    "- U+093A to U+094F: Various vowel diacritics (e.g., ़, ऽ, ा, ि)\n",
    "- U+0950 to U+0954: Additional signs (e.g., ॐ, ः, ँ)\n",
    "- U+0955 to U+0963: Additional vowel signs and diacritics\n",
    "- U+0964 to U+096F: Punctuation marks and numerals (e.g., ।, ॥, ०, १, २)\n",
    "- U+0970 to U+097F: Extended characters used in various Indian languages\n",
    "\n",
    "The Devanagari Extended block spans from U+A8E0 to U+A8FF, adding more characters for specific linguistic purposes."
   ]
  },
  {
   "cell_type": "code",
   "execution_count": 39,
   "metadata": {},
   "outputs": [
    {
     "name": "stdout",
     "output_type": "stream",
     "text": [
      "Devanagari character counts: 77\n"
     ]
    }
   ],
   "source": [
    "start = '\\u0900'\n",
    "end = '\\u097F'\n",
    "devanagari_character_counts = {char: count for char, count in character_counts.items() if start <= char <= end}\n",
    "print(\"Devanagari character counts:\", len(devanagari_character_counts))\n"
   ]
  },
  {
   "cell_type": "code",
   "execution_count": 51,
   "metadata": {},
   "outputs": [
    {
     "name": "stdout",
     "output_type": "stream",
     "text": [
      "Total Devanagari characters: 128\n"
     ]
    }
   ],
   "source": [
    "start = '\\u0900'\n",
    "end = '\\u097F'\n",
    "devanagari_characters = [chr(i) for i in range(ord(start), ord(end) + 1)]\n",
    "print(\"Total Devanagari characters:\", len(devanagari_characters))\n"
   ]
  },
  {
   "cell_type": "code",
   "execution_count": 53,
   "metadata": {},
   "outputs": [
    {
     "name": "stdout",
     "output_type": "stream",
     "text": [
      "Devanagari Extended character counts: 0\n"
     ]
    }
   ],
   "source": [
    "start = '\\uA8E0'\n",
    "end = '\\uA8FF'\n",
    "devanagari_extended_character_counts = {char: count for char, count in character_counts.items() if start <= char <= end}\n",
    "print(\"Devanagari Extended character counts:\", len(devanagari_extended_character_counts))\n"
   ]
  },
  {
   "cell_type": "code",
   "execution_count": 50,
   "metadata": {},
   "outputs": [
    {
     "name": "stdout",
     "output_type": "stream",
     "text": [
      "Total Extended Devanagari characters: 32\n"
     ]
    }
   ],
   "source": [
    "start = '\\uA8E0'\n",
    "end = '\\uA8FF'\n",
    "extended_devanagari_characters = [chr(i) for i in range(ord(start), ord(end) + 1)]\n",
    "print(\"Total Extended Devanagari characters:\", len(extended_devanagari_characters))\n"
   ]
  },
  {
   "cell_type": "code",
   "execution_count": 69,
   "metadata": {},
   "outputs": [
    {
     "data": {
      "text/html": [
       "<div>\n",
       "<style scoped>\n",
       "    .dataframe tbody tr th:only-of-type {\n",
       "        vertical-align: middle;\n",
       "    }\n",
       "\n",
       "    .dataframe tbody tr th {\n",
       "        vertical-align: top;\n",
       "    }\n",
       "\n",
       "    .dataframe thead th {\n",
       "        text-align: right;\n",
       "    }\n",
       "</style>\n",
       "<table border=\"1\" class=\"dataframe\">\n",
       "  <thead>\n",
       "    <tr style=\"text-align: right;\">\n",
       "      <th></th>\n",
       "      <th>Character</th>\n",
       "      <th>Unicode</th>\n",
       "      <th>Is Devanagari</th>\n",
       "      <th>Count</th>\n",
       "    </tr>\n",
       "  </thead>\n",
       "  <tbody>\n",
       "    <tr>\n",
       "      <th>0</th>\n",
       "      <td>्</td>\n",
       "      <td>2381</td>\n",
       "      <td>True</td>\n",
       "      <td>1067132</td>\n",
       "    </tr>\n",
       "    <tr>\n",
       "      <th>1</th>\n",
       "      <td>ा</td>\n",
       "      <td>2366</td>\n",
       "      <td>True</td>\n",
       "      <td>864738</td>\n",
       "    </tr>\n",
       "    <tr>\n",
       "      <th>2</th>\n",
       "      <td>त</td>\n",
       "      <td>2340</td>\n",
       "      <td>True</td>\n",
       "      <td>668939</td>\n",
       "    </tr>\n",
       "    <tr>\n",
       "      <th>3</th>\n",
       "      <td>र</td>\n",
       "      <td>2352</td>\n",
       "      <td>True</td>\n",
       "      <td>590762</td>\n",
       "    </tr>\n",
       "    <tr>\n",
       "      <th>4</th>\n",
       "      <td>क</td>\n",
       "      <td>2325</td>\n",
       "      <td>True</td>\n",
       "      <td>507052</td>\n",
       "    </tr>\n",
       "    <tr>\n",
       "      <th>...</th>\n",
       "      <td>...</td>\n",
       "      <td>...</td>\n",
       "      <td>...</td>\n",
       "      <td>...</td>\n",
       "    </tr>\n",
       "    <tr>\n",
       "      <th>72</th>\n",
       "      <td>ऋ</td>\n",
       "      <td>2315</td>\n",
       "      <td>True</td>\n",
       "      <td>2586</td>\n",
       "    </tr>\n",
       "    <tr>\n",
       "      <th>73</th>\n",
       "      <td>ऊ</td>\n",
       "      <td>2314</td>\n",
       "      <td>True</td>\n",
       "      <td>1344</td>\n",
       "    </tr>\n",
       "    <tr>\n",
       "      <th>74</th>\n",
       "      <td>ॉ</td>\n",
       "      <td>2377</td>\n",
       "      <td>True</td>\n",
       "      <td>979</td>\n",
       "    </tr>\n",
       "    <tr>\n",
       "      <th>75</th>\n",
       "      <td>ॐ</td>\n",
       "      <td>2384</td>\n",
       "      <td>True</td>\n",
       "      <td>866</td>\n",
       "    </tr>\n",
       "    <tr>\n",
       "      <th>76</th>\n",
       "      <td>ऑ</td>\n",
       "      <td>2321</td>\n",
       "      <td>True</td>\n",
       "      <td>156</td>\n",
       "    </tr>\n",
       "  </tbody>\n",
       "</table>\n",
       "<p>77 rows × 4 columns</p>\n",
       "</div>"
      ],
      "text/plain": [
       "   Character  Unicode  Is Devanagari    Count\n",
       "0          ्     2381           True  1067132\n",
       "1          ा     2366           True   864738\n",
       "2          त     2340           True   668939\n",
       "3          र     2352           True   590762\n",
       "4          क     2325           True   507052\n",
       "..       ...      ...            ...      ...\n",
       "72         ऋ     2315           True     2586\n",
       "73         ऊ     2314           True     1344\n",
       "74         ॉ     2377           True      979\n",
       "75         ॐ     2384           True      866\n",
       "76         ऑ     2321           True      156\n",
       "\n",
       "[77 rows x 4 columns]"
      ]
     },
     "execution_count": 69,
     "metadata": {},
     "output_type": "execute_result"
    }
   ],
   "source": [
    "# Convert the character counts to a pandas DataFrame\n",
    "# columns=['Character', 'Unicode', 'Is Devanagari', 'Count']\n",
    "character_counts_df = pd.DataFrame(\n",
    "    [(char, ord(char), char in devanagari_character_counts, count) for char, count in character_counts.items()],\n",
    "    columns=['Character', 'Unicode', 'Is Devanagari', 'Count']\n",
    ")\n",
    "character_counts_df = character_counts_df.sort_values(by='Count', ascending=False).reset_index(drop=True)\n",
    "character_counts_df\n"
   ]
  },
  {
   "cell_type": "code",
   "execution_count": 70,
   "metadata": {},
   "outputs": [
    {
     "data": {
      "text/html": [
       "<div>\n",
       "<style scoped>\n",
       "    .dataframe tbody tr th:only-of-type {\n",
       "        vertical-align: middle;\n",
       "    }\n",
       "\n",
       "    .dataframe tbody tr th {\n",
       "        vertical-align: top;\n",
       "    }\n",
       "\n",
       "    .dataframe thead th {\n",
       "        text-align: right;\n",
       "    }\n",
       "</style>\n",
       "<table border=\"1\" class=\"dataframe\">\n",
       "  <thead>\n",
       "    <tr style=\"text-align: right;\">\n",
       "      <th></th>\n",
       "      <th>Character</th>\n",
       "      <th>Unicode</th>\n",
       "      <th>Is Devanagari</th>\n",
       "      <th>Count</th>\n",
       "    </tr>\n",
       "  </thead>\n",
       "  <tbody>\n",
       "  </tbody>\n",
       "</table>\n",
       "</div>"
      ],
      "text/plain": [
       "Empty DataFrame\n",
       "Columns: [Character, Unicode, Is Devanagari, Count]\n",
       "Index: []"
      ]
     },
     "execution_count": 70,
     "metadata": {},
     "output_type": "execute_result"
    }
   ],
   "source": [
    "character_counts_df[character_counts_df['Is Devanagari']==False].sort_values(by='Unicode')\n"
   ]
  },
  {
   "cell_type": "code",
   "execution_count": 72,
   "metadata": {},
   "outputs": [],
   "source": [
    "# vocab given by mayank\n",
    "hindi_to_english = {\n",
    "    'अ': 'a', 'आ': 'aa', 'इ': 'i', 'ई': 'ee', 'उ': 'u', 'ऊ': 'oo',\n",
    "    'ए': 'e', 'ऐ': 'ai', 'ओ': 'o', 'औ': 'au',\n",
    "    'क': 'k', 'ख': 'kh', 'ग': 'g', 'घ': 'gh', 'ङ': 'ng',\n",
    "    'च': 'ch', 'छ': 'chh', 'ज': 'j', 'झ': 'jh', 'ञ': 'n',\n",
    "    'ट': 't', 'ठ': 'th', 'ड': 'd', 'ढ': 'dh', 'ण': 'n',\n",
    "    'त': 't', 'थ': 'th', 'द': 'd', 'ध': 'dh', 'न': 'n',\n",
    "    'प': 'p', 'फ': 'ph', 'ब': 'b', 'भ': 'bh', 'म': 'm',\n",
    "    'य': 'y', 'र': 'r', 'ल': 'l', 'व': 'v',\n",
    "    'श': 'sh', 'ष': 'sh', 'स': 's', 'ह': 'h',\n",
    "    'क्ष': 'ksh', 'त्र': 'tr', 'ज्ञ': 'gy',\n",
    "    'ड़': 'r', 'ढ़': 'rh',\n",
    "    'ा': 'a', 'ि': 'i', 'ी': 'ee', 'ु': 'u', 'ू': 'oo',\n",
    "    'े': 'e', 'ै': 'ai', 'ो': 'o', 'ौ': 'au',\n",
    "    'ं': 'n', 'ः': 'h', '्': '',\n",
    "}\n"
   ]
  },
  {
   "cell_type": "code",
   "execution_count": 82,
   "metadata": {},
   "outputs": [
    {
     "data": {
      "text/plain": [
       "['।',\n",
       " '१',\n",
       " 'ृ',\n",
       " '॥',\n",
       " '०',\n",
       " '२',\n",
       " '५',\n",
       " '४',\n",
       " '८',\n",
       " '३',\n",
       " 'ऽ',\n",
       " '६',\n",
       " '७',\n",
       " '९',\n",
       " 'ँ',\n",
       " '॑',\n",
       " '॒',\n",
       " '़',\n",
       " 'ऋ',\n",
       " 'ॉ',\n",
       " 'ॐ',\n",
       " 'ऑ']"
      ]
     },
     "execution_count": 82,
     "metadata": {},
     "output_type": "execute_result"
    }
   ],
   "source": [
    "character_counts_df['English'] = character_counts_df['Character'].map(hindi_to_english)\n",
    "character_counts_df[character_counts_df['English'].isnull()]['Character'].values.tolist()\n"
   ]
  },
  {
   "cell_type": "code",
   "execution_count": 71,
   "metadata": {},
   "outputs": [
    {
     "name": "stdout",
     "output_type": "stream",
     "text": [
      "5\n"
     ]
    }
   ],
   "source": [
    "print(len(\"करें।\"))\n"
   ]
  }
 ],
 "metadata": {
  "kernelspec": {
   "display_name": "base",
   "language": "python",
   "name": "python3"
  },
  "language_info": {
   "codemirror_mode": {
    "name": "ipython",
    "version": 3
   },
   "file_extension": ".py",
   "mimetype": "text/x-python",
   "name": "python",
   "nbconvert_exporter": "python",
   "pygments_lexer": "ipython3",
   "version": "3.12.2"
  }
 },
 "nbformat": 4,
 "nbformat_minor": 2
}
