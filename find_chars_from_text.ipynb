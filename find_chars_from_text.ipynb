{
 "cells": [
  {
   "cell_type": "code",
   "execution_count": null,
   "metadata": {},
   "outputs": [],
   "source": [
    "import os\n",
    "import re\n",
    "from collections import Counter\n",
    "import pandas as pd\n"
   ]
  },
  {
   "cell_type": "code",
   "execution_count": null,
   "metadata": {},
   "outputs": [],
   "source": [
    "RAW_HINDI_DATA_DIR = 'data/raw_hindi_data'\n"
   ]
  },
  {
   "cell_type": "code",
   "execution_count": null,
   "metadata": {},
   "outputs": [],
   "source": [
    "# def read_text_files(directory):\n",
    "#     text = \"\"\n",
    "#     for filename in os.listdir(directory):\n",
    "#         if filename.endswith(\".txt\"):\n",
    "#             with open(os.path.join(directory, filename), 'r', encoding='utf-8') as file:\n",
    "#                 text += file.read() + \" \"\n",
    "#     return text\n",
    "\n",
    "# def tokenize(text):\n",
    "#     # Using regex to find words, which are sequences of word characters (alphanumeric + underscore)\n",
    "#     words = re.findall(r'\\b\\w+\\b', text)\n",
    "#     return words\n",
    "\n",
    "# def get_vocabulary(directory):\n",
    "#     text = read_text_files(directory)\n",
    "#     words = tokenize(text)\n",
    "#     vocabulary = set(words)\n",
    "#     return vocabulary\n",
    "\n",
    "# Example usage:\n",
    "# directory_path = 'data/raw_hindi_data'\n",
    "# vocabulary = get_vocabulary(directory_path)\n",
    "\n",
    "# # Print the vocabulary\n",
    "# print(\"Vocabulary size:\", len(vocabulary))\n",
    "# print(\"Vocabulary:\", vocabulary)\n"
   ]
  },
  {
   "cell_type": "code",
   "execution_count": null,
   "metadata": {},
   "outputs": [],
   "source": [
    "def read_text_files(directory):\n",
    "    text = \"\"\n",
    "    for filename in os.listdir(directory):\n",
    "        if filename.endswith(\".txt\"):\n",
    "            with open(os.path.join(directory, filename), 'r', encoding='utf-8') as file:\n",
    "                text += file.read()\n",
    "    return text\n",
    "\n",
    "def filter_text(text):\n",
    "    # Remove English alphabets and numbers 0-9 using regex\n",
    "    filtered_text = re.sub(r'[a-zA-Z0-9 \\n]', '', text)\n",
    "    return filtered_text\n",
    "\n",
    "def count_characters(text):\n",
    "    return Counter(text)\n",
    "\n",
    "def get_character_counts_from_directory(directory):\n",
    "    text = read_text_files(directory)\n",
    "    filtered_text = filter_text(text)\n",
    "    character_counts = count_characters(filtered_text)\n",
    "    return character_counts\n",
    "\n",
    "# Example usage:\n",
    "character_counts = get_character_counts_from_directory(RAW_HINDI_DATA_DIR)\n",
    "print(\"Character counts:\", len(character_counts))\n"
   ]
  },
  {
   "cell_type": "markdown",
   "metadata": {},
   "source": [
    "The Unicode range for the Devanagari script, used for writing Hindi, spans from U+0900 to U+097F. Here is a breakdown of the range:\n",
    "\n",
    "- U+0900 to U+0903: Vowel signs (e.g., ं, ँ)\n",
    "- U+0904 to U+0939: Independent vowels and consonants (e.g., अ, आ, इ, ई, क, ख, ग)\n",
    "- U+093A to U+094F: Various vowel diacritics (e.g., ़, ऽ, ा, ि)\n",
    "- U+0950 to U+0954: Additional signs (e.g., ॐ, ः, ँ)\n",
    "- U+0955 to U+0963: Additional vowel signs and diacritics\n",
    "- U+0964 to U+096F: Punctuation marks and numerals (e.g., ।, ॥, ०, १, २)\n",
    "- U+0970 to U+097F: Extended characters used in various Indian languages\n",
    "\n",
    "The Devanagari Extended block spans from U+A8E0 to U+A8FF, adding more characters for specific linguistic purposes."
   ]
  },
  {
   "cell_type": "code",
   "execution_count": null,
   "metadata": {},
   "outputs": [],
   "source": [
    "start = '\\u0900'\n",
    "end = '\\u097F'\n",
    "devanagari_character_counts = {char: count for char, count in character_counts.items() if start <= char <= end}\n",
    "print(\"Devanagari character counts:\", len(devanagari_character_counts))\n"
   ]
  },
  {
   "cell_type": "code",
   "execution_count": null,
   "metadata": {},
   "outputs": [],
   "source": [
    "start = '\\uA8E0'\n",
    "end = '\\uA8FF'\n",
    "devanagari_character_counts2 = {char: count for char, count in character_counts.items() if start <= char <= end}\n",
    "print(\"Devanagari character counts:\", len(devanagari_character_counts2))\n"
   ]
  },
  {
   "cell_type": "code",
   "execution_count": null,
   "metadata": {},
   "outputs": [],
   "source": [
    "# Convert the character counts to a pandas DataFrame\n",
    "# columns=['Character', 'Unicode', 'Is Devanagari', 'Count']\n",
    "character_counts_df = pd.DataFrame(\n",
    "    [(char, ord(char), char in devanagari_character_counts, count) for char, count in character_counts.items()],\n",
    "    columns=['Character', 'Unicode', 'Is Devanagari', 'Count']\n",
    ")\n",
    "character_counts_df = character_counts_df.sort_values(by='Count', ascending=False).reset_index(drop=True)\n",
    "character_counts_df\n"
   ]
  },
  {
   "cell_type": "code",
   "execution_count": null,
   "metadata": {},
   "outputs": [],
   "source": [
    "character_counts_df[character_counts_df['Is Devanagari']==False].sort_values(by='Unicode')\n"
   ]
  },
  {
   "cell_type": "code",
   "execution_count": null,
   "metadata": {},
   "outputs": [],
   "source": [
    "print(len(\"करें।\"))\n"
   ]
  }
 ],
 "metadata": {
  "kernelspec": {
   "display_name": "base",
   "language": "python",
   "name": "python3"
  },
  "language_info": {
   "codemirror_mode": {
    "name": "ipython",
    "version": 3
   },
   "file_extension": ".py",
   "mimetype": "text/x-python",
   "name": "python",
   "nbconvert_exporter": "python",
   "pygments_lexer": "ipython3",
   "version": "3.12.2"
  }
 },
 "nbformat": 4,
 "nbformat_minor": 2
}
