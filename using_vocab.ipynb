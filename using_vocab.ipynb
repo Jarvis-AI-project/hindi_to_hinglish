{
 "cells": [
  {
   "cell_type": "code",
   "execution_count": 1,
   "metadata": {},
   "outputs": [
    {
     "data": {
      "text/plain": [
       "60"
      ]
     },
     "execution_count": 1,
     "metadata": {},
     "output_type": "execute_result"
    }
   ],
   "source": [
    "hindi_to_english_old = {\n",
    "    'अ': 'a', 'आ': 'aa', 'इ': 'i', 'ई': 'ee', 'उ': 'u', 'ऊ': 'oo',\n",
    "    'ए': 'e', 'ऐ': 'ai', 'ओ': 'o', 'औ': 'au',\n",
    "    'क': 'k', 'ख': 'kh', 'ग': 'g', 'घ': 'gh', 'ङ': 'ng',\n",
    "    'च': 'ch', 'छ': 'chh', 'ज': 'j', 'झ': 'jh', 'ञ': 'n',\n",
    "    'ट': 't', 'ठ': 'th', 'ड': 'd', 'ढ': 'dh', 'ण': 'n',\n",
    "    'त': 't', 'थ': 'th', 'द': 'd', 'ध': 'dh', 'न': 'n',\n",
    "    'प': 'p', 'फ': 'ph', 'ब': 'b', 'भ': 'bh', 'म': 'm',\n",
    "    'य': 'y', 'र': 'r', 'ल': 'l', 'व': 'v',\n",
    "    'श': 'sh', 'ष': 'sh', 'स': 's', 'ह': 'h',\n",
    "    'क्ष': 'ksh', 'त्र': 'tr', 'ज्ञ': 'gy',\n",
    "    'ड़': 'r', 'ढ़': 'rh',\n",
    "    'ा': 'a', 'ि': 'i', 'ी': 'ee', 'ु': 'u', 'ू': 'oo',\n",
    "    'े': 'e', 'ै': 'ai', 'ो': 'o', 'ौ': 'au',\n",
    "    'ं': 'n', 'ः': 'h', '्': '',\n",
    "}\n",
    "len(hindi_to_english_old.keys())\n"
   ]
  },
  {
   "cell_type": "code",
   "execution_count": 14,
   "metadata": {},
   "outputs": [],
   "source": [
    "def hindi_to_hinglish(text, hindi_to_english, debug=False):\n",
    "    # output = []\n",
    "    # i = 0\n",
    "    # while i < len(text):\n",
    "    #     if i < len(text) - 1 and text[i:i+2] in hindi_to_english:\n",
    "    #         output.append(hindi_to_english[text[i:i+2]])\n",
    "    #         i += 2\n",
    "    #     elif text[i] in hindi_to_english:\n",
    "    #         output.append(hindi_to_english[text[i]])\n",
    "    #         i += 1\n",
    "    #     else:\n",
    "    #         output.append(text[i])\n",
    "    #         i += 1\n",
    "\n",
    "    # result = ''.join(output)\n",
    "    \n",
    "    if debug:\n",
    "        print(f\"text is {len(text)} chars long.\")\n",
    "    for char in text:\n",
    "        if char in hindi_to_english:\n",
    "            if debug:\n",
    "                print(char, hindi_to_english[char])\n",
    "            text = text.replace(char, hindi_to_english[char])\n",
    "    \n",
    "    # Post-processing\n",
    "    # result = result.replace('ai', 'ai').replace('au', 'au')\n",
    "    # result = result.replace('ii', 'ee').replace('oo', 'oo')\n",
    "    # result = result.replace('sh', 'sh').replace('ksh', 'ksh')\n",
    "    # result = result.replace('x', 'ks')\n",
    "    \n",
    "    return text\n"
   ]
  },
  {
   "cell_type": "code",
   "execution_count": 3,
   "metadata": {},
   "outputs": [],
   "source": [
    "from devanagari_chars_sounds import hindi_to_english\n"
   ]
  },
  {
   "cell_type": "code",
   "execution_count": 11,
   "metadata": {},
   "outputs": [
    {
     "name": "stdout",
     "output_type": "stream",
     "text": [
      "jbki prkhnd karyaly ke peechhe men thana ka jmeen adhigrhn hone ke bad bhvn nirman nheen hone ke karn seepeesee bhvn men thana karyaly\n",
      "jbki prkhnd karyaly ke peechhe men thana ka jmeen adhigrhn hone ke bad bhvn nirman nheen hone ke karn seepeesee bhvn men thana karyaly\n"
     ]
    }
   ],
   "source": [
    "hindi_text = \"जबकि प्रखंड कार्यालय के पीछे में थाना का जमीन अधिग्रहण होने के बाद भवन निर्माण नहीं होने के कारण सीपीसी भवन में थाना कार्यालय\"\n",
    "print(hindi_to_hinglish(hindi_text, hindi_to_english_old))\n",
    "print(hindi_to_hinglish(hindi_text, hindi_to_english))\n"
   ]
  },
  {
   "cell_type": "code",
   "execution_count": 13,
   "metadata": {},
   "outputs": [
    {
     "name": "stdout",
     "output_type": "stream",
     "text": [
      "'ismen unka nuksan, lekin...', baithk men shamil n hone vale 10 rajyon pr kya bola NITI aayog\n",
      "'ismen unka nuksan, lekin...', baithk men shamil n hone vale 10 rajyon pr kya bola NITI aayog\n"
     ]
    }
   ],
   "source": [
    "hindi_text = \"'इसमें उनका नुकसान, लेकिन...', बैठक में शामिल न होने वाले 10 राज्यों पर क्या बोला NITI आयोग\"\n",
    "print(hindi_to_hinglish(hindi_text, hindi_to_english_old))\n",
    "print(hindi_to_hinglish(hindi_text, hindi_to_english))\n"
   ]
  },
  {
   "cell_type": "code",
   "execution_count": 16,
   "metadata": {},
   "outputs": [
    {
     "name": "stdout",
     "output_type": "stream",
     "text": [
      "text is 6 chars long.\n",
      "प p\n",
      "् \n",
      "र r\n",
      "ख kh\n",
      "ं n\n",
      "ड d\n"
     ]
    },
    {
     "data": {
      "text/plain": [
       "'prkhnd'"
      ]
     },
     "execution_count": 16,
     "metadata": {},
     "output_type": "execute_result"
    }
   ],
   "source": [
    "hindi_to_hinglish(\"प्रखंड\", hindi_to_english, debug=True)\n"
   ]
  }
 ],
 "metadata": {
  "kernelspec": {
   "display_name": "base",
   "language": "python",
   "name": "python3"
  },
  "language_info": {
   "codemirror_mode": {
    "name": "ipython",
    "version": 3
   },
   "file_extension": ".py",
   "mimetype": "text/x-python",
   "name": "python",
   "nbconvert_exporter": "python",
   "pygments_lexer": "ipython3",
   "version": "3.12.2"
  }
 },
 "nbformat": 4,
 "nbformat_minor": 2
}
